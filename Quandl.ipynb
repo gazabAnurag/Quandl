{
 "cells": [
  {
   "cell_type": "code",
   "execution_count": 2,
   "metadata": {
    "collapsed": false
   },
   "outputs": [
    {
     "name": "stdout",
     "output_type": "stream",
     "text": [
      "   Bounce_Rate  Day  Visitors\n",
      "0           65    1        43\n",
      "1           74    2        44\n",
      "2           75    3        35\n",
      "3           14    4        67\n",
      "   Bounce_Rate  Day  Visitors\n",
      "0           65    1        43\n",
      "1           74    2        44\n",
      "2           75    3        35\n",
      "3           14    4        67\n"
     ]
    }
   ],
   "source": [
    "import pandas as pd\n",
    "import matplotlib as mb\n",
    "from matplotlib import style\n",
    "import numpy as np\n",
    "style.use('ggplot')\n",
    "web_data={'Day':[1,2,3,4],\n",
    "\t      'Visitors':[43,44,35,67],\n",
    "\t      'Bounce_Rate':[65,74,75,14]}\n",
    "df=pd.DataFrame(web_data)\n",
    "print(df)\n",
    "#print first 5\n",
    "print(df.head())\n",
    "#print last 5\n",
    "#print(df.tail())\n",
    "#print last 2\n",
    "#print(df.tail(2))\n",
    "#change the head to the col1\n",
    "#print(df.set_index('col_name')) will give new reference if you don't store it your fault\n",
    "#df=df.set_index('Day')\n",
    "#or\n",
    "#print(df.set_index('Day',inplace=True))\n",
    "#print(df.tail(2))\n",
    "#shake it like dictionary\n",
    "#print(df['Bounce_Rate'])\n",
    "#print(df.Bounce_Rate)\n",
    "#multiple col values as list\n",
    "new_df=df[['Visitors','Bounce_Rate']]\n",
    "#print(new_df.head())\n",
    "#print(np.array(df[['Visitors','Bounce_Rate']]))\n",
    "\n"
   ]
  },
  {
   "cell_type": "code",
   "execution_count": 3,
   "metadata": {
    "collapsed": false
   },
   "outputs": [
    {
     "name": "stdout",
     "output_type": "stream",
     "text": [
      "               77008\n",
      "Date                \n",
      "2016-09-30  381700.0\n",
      "2016-08-31  387500.0\n",
      "2016-07-31  390000.0\n",
      "2016-06-30  394600.0\n",
      "2016-05-31  402400.0\n"
     ]
    }
   ],
   "source": [
    "data_df=pd.read_csv('/home/anurag/Downloads/Data/ZILL-Z77008_3B.csv')\n",
    "data_df.set_index('Date',inplace=True)\n",
    "#print(data_df.head())\n",
    "data_df.to_csv('/home/anurag/Downloads/Data/pandas_test.csv')\n",
    "#to change the header of the file while importing\n",
    "#do not do this fucks your data realbad\n",
    "data_df=pd.read_csv('/home/anurag/Downloads/Data/pandas_test.csv',index_col=0)\n",
    "#rename the col\n",
    "#index is not a column & this sets all the columns \n",
    "data_df.columns=['Austin_HPI']\n",
    "#legit way\n",
    "data_df.rename(columns={'Austin_HPI':'77008'},inplace=True)\n",
    "#to remove the header from the list or disable it all together\n",
    "#data_df.to_csv('/home/anurag/Downloads/Data/pandas_test.csv',header=False)\n",
    "#to read a file without header\n",
    "#df=read_csv('filename',names=['Dates','Austin'],index_col=0)\n",
    "print(data_df.head())\n",
    "#converting them into other data format\n",
    "data_df.to_json('/home/anurag/Downloads/Data/wow.json')\n",
    "data_df.to_html('/home/anurag/Downloads/Data/wow.html')"
   ]
  },
  {
   "cell_type": "code",
   "execution_count": 6,
   "metadata": {
    "collapsed": false,
    "scrolled": true
   },
   "outputs": [
    {
     "name": "stdout",
     "output_type": "stream",
     "text": [
      "0    Abbreviation\n",
      "1              AL\n",
      "2              AK\n",
      "3              AZ\n",
      "4              AR\n",
      "Name: 0, dtype: object\n",
      "statesAL\n",
      "statesAK\n",
      "statesAZ\n",
      "statesAR\n",
      "statesCA\n",
      "statesCO\n",
      "statesCT\n",
      "statesDE\n",
      "statesFL\n",
      "statesGA\n",
      "statesHI\n",
      "statesID\n",
      "statesIL\n",
      "statesIN\n",
      "statesIA\n",
      "statesKS\n",
      "statesKY\n",
      "statesLA\n",
      "statesME\n",
      "statesMD\n",
      "statesMA\n",
      "statesMI\n",
      "statesMN\n",
      "statesMS\n",
      "statesMO\n",
      "statesMT\n",
      "statesNE\n",
      "statesNV\n",
      "statesNH\n",
      "statesNJ\n",
      "statesNM\n",
      "statesNY\n",
      "statesNC\n",
      "statesND\n",
      "statesOH\n",
      "statesOK\n",
      "statesOR\n",
      "statesPA\n",
      "statesRI\n",
      "statesSC\n",
      "statesSD\n",
      "statesTN\n",
      "statesTX\n",
      "statesUT\n",
      "statesVT\n",
      "statesVA\n",
      "statesWA\n",
      "statesWV\n",
      "statesWI\n",
      "statesWY\n"
     ]
    }
   ],
   "source": [
    "import quandl as qd\n",
    "import html5lib\n",
    "api_key='76soWLbTjJ23x1naENDY'\n",
    "df=qd.get('FMAC/HPI_AK',authtoken=api_key)\n",
    "#print(df.head())\n",
    "fiddy_states=pd.read_html('https://simple.wikipedia.org/wiki/List_of_U.S._states')\n",
    "#this is a list\n",
    "#print(fiddy_state.head())\n",
    "#this is a dataframe\n",
    "#print(fiddy_state[0])\n",
    "#this is a column/list\n",
    "print(fiddy_states[0][0].head())\n",
    "for state in fiddy_states[0][0][1:]:\n",
    "    #print(\"states\"+str(state))\n",
    "    "
   ]
  }
 ],
 "metadata": {
  "kernelspec": {
   "display_name": "Python 3",
   "language": "python",
   "name": "python3"
  },
  "language_info": {
   "codemirror_mode": {
    "name": "ipython",
    "version": 3
   },
   "file_extension": ".py",
   "mimetype": "text/x-python",
   "name": "python",
   "nbconvert_exporter": "python",
   "pygments_lexer": "ipython3",
   "version": "3.6.0"
  }
 },
 "nbformat": 4,
 "nbformat_minor": 2
}
