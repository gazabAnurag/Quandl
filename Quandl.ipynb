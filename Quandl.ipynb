{
 "cells": [
  {
   "cell_type": "code",
   "execution_count": 2,
   "metadata": {
    "collapsed": false
   },
   "outputs": [
    {
     "name": "stdout",
     "output_type": "stream",
     "text": [
      "   Bounce_Rate  Day  Visitors\n",
      "0           65    1        43\n",
      "1           74    2        44\n",
      "2           75    3        35\n",
      "3           14    4        67\n",
      "   Bounce_Rate  Day  Visitors\n",
      "0           65    1        43\n",
      "1           74    2        44\n",
      "2           75    3        35\n",
      "3           14    4        67\n"
     ]
    }
   ],
   "source": [
    "import pandas as pd\n",
    "import matplotlib as mb\n",
    "from matplotlib import style\n",
    "import numpy as np\n",
    "style.use('ggplot')\n",
    "web_data={'Day':[1,2,3,4],\n",
    "\t      'Visitors':[43,44,35,67],\n",
    "\t      'Bounce_Rate':[65,74,75,14]}\n",
    "df=pd.DataFrame(web_data)\n",
    "print(df)\n",
    "#print first 5\n",
    "print(df.head())\n",
    "#print last 5\n",
    "#print(df.tail())\n",
    "#print last 2\n",
    "#print(df.tail(2))\n",
    "#change the head to the col1\n",
    "#print(df.set_index('col_name')) will give new reference if you don't store it your fault\n",
    "#df=df.set_index('Day')\n",
    "#or\n",
    "#print(df.set_index('Day',inplace=True))\n",
    "#print(df.tail(2))\n",
    "#shake it like dictionary\n",
    "#print(df['Bounce_Rate'])\n",
    "#print(df.Bounce_Rate)\n",
    "#multiple col values as list\n",
    "new_df=df[['Visitors','Bounce_Rate']]\n",
    "#print(new_df.head())\n",
    "#print(np.array(df[['Visitors','Bounce_Rate']]))\n",
    "\n"
   ]
  },
  {
   "cell_type": "code",
   "execution_count": 3,
   "metadata": {
    "collapsed": false
   },
   "outputs": [
    {
     "name": "stdout",
     "output_type": "stream",
     "text": [
      "               77008\n",
      "Date                \n",
      "2016-09-30  381700.0\n",
      "2016-08-31  387500.0\n",
      "2016-07-31  390000.0\n",
      "2016-06-30  394600.0\n",
      "2016-05-31  402400.0\n"
     ]
    }
   ],
   "source": [
    "data_df=pd.read_csv('/home/anurag/Downloads/Data/ZILL-Z77008_3B.csv')\n",
    "data_df.set_index('Date',inplace=True)\n",
    "#print(data_df.head())\n",
    "data_df.to_csv('/home/anurag/Downloads/Data/pandas_test.csv')\n",
    "#to change the header of the file while importing\n",
    "#do not do this fucks your data realbad\n",
    "data_df=pd.read_csv('/home/anurag/Downloads/Data/pandas_test.csv',index_col=0)\n",
    "#rename the col\n",
    "#index is not a column & this sets all the columns \n",
    "data_df.columns=['Austin_HPI']\n",
    "#legit way\n",
    "data_df.rename(columns={'Austin_HPI':'77008'},inplace=True)\n",
    "#to remove the header from the list or disable it all together\n",
    "#data_df.to_csv('/home/anurag/Downloads/Data/pandas_test.csv',header=False)\n",
    "#to read a file without header\n",
    "#df=read_csv('filename',names=['Dates','Austin'],index_col=0)\n",
    "print(data_df.head())\n",
    "#converting them into other data format\n",
    "data_df.to_json('/home/anurag/Downloads/Data/wow.json')\n",
    "data_df.to_html('/home/anurag/Downloads/Data/wow.html')"
   ]
  },
  {
   "cell_type": "code",
   "execution_count": 33,
   "metadata": {
    "collapsed": false,
    "scrolled": true
   },
   "outputs": [],
   "source": [
    "import quandl as qd\n",
    "import html5lib\n",
    "import pickle\n",
    "api_key='76soWLbTjJ23x1naENDY'\n",
    "df=qd.get('FMAC/HPI_AK',authtoken=api_key)\n",
    "#print(df.head())\n",
    "#this is a list\n",
    "#print(fiddy_state.head())\n",
    "#this is a dataframe\n",
    "#print(fiddy_state[0])\n",
    "#this is a column/list\n",
    "#print(\"states\"+str(state))\n",
    "def state_list():\n",
    "    fiddy_states=pd.read_html('https://simple.wikipedia.org/wiki/List_of_U.S._states')\n",
    "    return fiddy_states[0][0][1:]\n",
    "def grab_intial_data():\n",
    "    states_list=state_list()\n",
    "    main_df=pd.DataFrame()\n",
    "    for state in states_list:\n",
    "        query=\"FMAC/HPI_\"+str(state)\n",
    "        df=qd.get(query,authtoken=api_key)\n",
    "        #df=df.pct_change()\n",
    "        df.rename(columns={'Value':str(state)},inplace=True)\n",
    "        df[state]=(df[state]-df[state][0])/df[state][0]*100\n",
    "        if main_df.empty:\n",
    "            main_df=df\n",
    "        else:\n",
    "            main_df=main_df.join(df)\n",
    "        pickle_out=open('/home/anurag/Downloads/Data/main_df.pickle','wb')\n",
    "        pickle.dump(main_df,pickle_out)\n",
    "        pickle_out.close()\n",
    "def hpi_benchmark():\n",
    "    df=pd.DataFrame()\n",
    "    df=qd.get('FMAC/HPI_USA',authtoken=api_key)\n",
    "    df.rename(columns={'Value':str('United States')},inplace=True)\n",
    "    df['United States']=(df['United States']-df['United States'][0])/df['United States'][0]*100\n",
    "    return df\n",
    "#grab_intial_data()\n"
   ]
  },
  {
   "cell_type": "code",
   "execution_count": 27,
   "metadata": {
    "collapsed": false
   },
   "outputs": [
    {
     "name": "stdout",
     "output_type": "stream",
     "text": [
      "                  AL        AK        AZ        AR        CA        CO  \\\n",
      "Date                                                                     \n",
      "1975-01-31  0.000000  0.000000  0.000000  0.000000  0.000000  0.000000   \n",
      "1975-02-28  0.628933  1.481135  1.775578  0.848253  0.352137  1.160075   \n",
      "1975-03-31  1.363531  2.996464  3.437191  1.588216  1.578298  2.303064   \n",
      "1975-04-30  2.261745  4.576212  4.707078  2.196974  3.581731  3.360907   \n",
      "1975-05-31  3.115526  6.298360  5.335401  2.808347  5.252210  4.223948   \n",
      "\n",
      "                  CT        DE         FL        GA    ...           SD  \\\n",
      "Date                                                   ...                \n",
      "1975-01-31  0.000000  0.000000   0.000000  0.000000    ...     0.000000   \n",
      "1975-02-28  2.160613  0.089288   3.783323 -0.970722    ...    -1.095463   \n",
      "1975-03-31  3.783125  0.282646   9.475745 -1.403272    ...    -2.210706   \n",
      "1975-04-30  4.674912  0.737982  16.517958 -1.218163    ...    -3.319466   \n",
      "1975-05-31  4.914211  1.558554  17.344382 -0.825102    ...    -4.325695   \n",
      "\n",
      "                  TN        TX        UT        VT        VA        WA  \\\n",
      "Date                                                                     \n",
      "1975-01-31  0.000000  0.000000  0.000000  0.000000  0.000000  0.000000   \n",
      "1975-02-28  0.177011  0.997977  1.411745  0.956397  1.011127  0.412904   \n",
      "1975-03-31  0.480697  2.759455  2.675295  1.879806  1.744991  1.060511   \n",
      "1975-04-30  0.898451  5.306995  3.669626  2.718869  2.277551  1.841242   \n",
      "1975-05-31  1.364301  6.071130  4.322656  3.454890  2.712905  2.550473   \n",
      "\n",
      "                   WV        WI        WY  \n",
      "Date                                       \n",
      "1975-01-31   0.000000  0.000000  0.000000  \n",
      "1975-02-28   2.537360  1.363375  1.551914  \n",
      "1975-03-31   5.180582  2.714008  3.189263  \n",
      "1975-04-30   7.907138  3.928106  4.874640  \n",
      "1975-05-31  10.652748  4.925554  6.501917  \n",
      "\n",
      "[5 rows x 50 columns]\n"
     ]
    }
   ],
   "source": [
    "pickle_in=open('/home/anurag/Downloads/Data/main_df.pickle','rb')\n",
    "HPI_data=pickle.load(pickle_in)\n",
    "#print(HPI_data)\n",
    "#pandas pickle is relatively fast\n",
    "HPI_data.to_pickle('/home/anurag/Downloads/Data/pandas_ka_pickle.pickle')\n",
    "new_data=pd.read_pickle('/home/anurag/Downloads/Data/main_df.pickle')\n",
    "print(new_data.head())"
   ]
  },
  {
   "cell_type": "code",
   "execution_count": 53,
   "metadata": {
    "collapsed": false
   },
   "outputs": [
    {
     "data": {
      "image/png": "[encoded data removed]",
      "text/plain": [
       "<matplotlib.figure.Figure at 0x7ff7186f0f98>"
      ]
     },
     "metadata": {},
     "output_type": "display_data"
    }
   ],
   "source": [
    "#utilizing the correlation functions and features of Pandas\n",
    "#new_data['TX2']=new_data['TX']*2\n",
    "import matplotlib.pyplot as plt\n",
    "from matplotlib import style\n",
    "style.use('fivethirtyeight')\n",
    "fig=plt.figure()\n",
    "ax1=plt.subplot2grid((1,1),(0,0))\n",
    "us_df=hpi_benchmark()\n",
    "new_data['AZ'].plot(ax=ax1)\n",
    "#us_df.plot(ax=ax1,color='k',linewidth=10)\n",
    "resampled_mean=new_data['AZ'].resample('A').mean()\n",
    "resampled_mean.plot(ax=ax1,label='resampled')\n",
    "plt.legend(loc=2)\n",
    "plt.show()\n"
   ]
  },
  {
   "cell_type": "code",
   "execution_count": 47,
   "metadata": {
    "collapsed": false
   },
   "outputs": [
    {
     "data": {
      "text/plain": [
       "<matplotlib.axes._subplots.AxesSubplot at 0x7ff713e80c88>"
      ]
     },
     "execution_count": 47,
     "metadata": {},
     "output_type": "execute_result"
    }
   ],
   "source": [
    "new_data_corr=new_data.corr()\n",
    "#print(new_data_corr.head())\n",
    "#describes the corre\n",
    "#print(new_data_corr.describe())\n",
    "#sampling bascially filters the data\n",
    "#increase granularity no no\n",
    "#clusters based on the column values and finds mean/sum/high-low/\n",
    "#refer to the alias for the pandas for year(A,M,D)\n",
    "resampled_mean=new_data['AZ'].resample('A').mean()\n",
    "resampled_mean.plot(ax=ax1,label='resampled')\n"
   ]
  },
  {
   "cell_type": "code",
   "execution_count": 3,
   "metadata": {
    "collapsed": false
   },
   "outputs": [],
   "source": [
    "df1 = pd.DataFrame({'HPI':[80,85,88,85],\n",
    "                    'Int_rate':[2, 3, 2, 2],\n",
    "                    'US_GDP_Thousands':[50, 55, 65, 55]},\n",
    "                   index = [2001, 2002, 2003, 2004])\n",
    "\n",
    "df2 = pd.DataFrame({'HPI':[80,85,88,85],\n",
    "                    'Int_rate':[2, 3, 2, 2],\n",
    "                    'US_GDP_Thousands':[50, 55, 65, 55]},\n",
    "                   index = [2005, 2006, 2007, 2008])\n",
    "\n",
    "df3 = pd.DataFrame({'HPI':[80,85,88,85],\n",
    "                    'Unemployment':[7, 8, 9, 6],\n",
    "                    'Low_tier_HPI':[50, 52, 50, 53]},\n",
    "                   index = [2001, 2002, 2003, 2004])\n"
   ]
  }
 ],
 "metadata": {
  "kernelspec": {
   "display_name": "Python 3",
   "language": "python",
   "name": "python3"
  },
  "language_info": {
   "codemirror_mode": {
    "name": "ipython",
    "version": 3
   },
   "file_extension": ".py",
   "mimetype": "text/x-python",
   "name": "python",
   "nbconvert_exporter": "python",
   "pygments_lexer": "ipython3",
   "version": "3.6.0"
  }
 },
 "nbformat": 4,
 "nbformat_minor": 2
}
